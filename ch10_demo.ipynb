{
 "cells": [
  {
   "cell_type": "code",
   "execution_count": 1,
   "metadata": {
    "collapsed": true
   },
   "outputs": [],
   "source": [
    "from Bio import Entrez #1\n",
    "from collections import defaultdict\n",
    "import matplotlib.pyplot as plt\n",
    "from scipy import stats\n",
    "import numpy as np"
   ]
  },
  {
   "cell_type": "code",
   "execution_count": 2,
   "metadata": {
    "collapsed": true
   },
   "outputs": [],
   "source": [
    "searchterm = 'psychopathy' #1\n",
    "COI = ':' #2\n",
    "maxReturn=100 #3"
   ]
  },
  {
   "cell_type": "code",
   "execution_count": 3,
   "metadata": {
    "collapsed": true
   },
   "outputs": [],
   "source": [
    "Entrez.email = \"neuraldatascience@gmail.com\" #1\n",
    "handle = Entrez.esearch(db=\"pubmed\", term=searchterm,retmax=maxReturn) #2\n",
    "record = Entrez.read(handle) #3\n",
    "idlist = record[\"IdList\"] #4"
   ]
  },
  {
   "cell_type": "code",
   "execution_count": 4,
   "metadata": {},
   "outputs": [],
   "source": [
    "handle = Entrez.efetch(db=\"pubmed\", id=idlist,rettype=\"medline\", retmode=\"xml\") #1\n",
    "records = Entrez.read(handle) #2"
   ]
  },
  {
   "cell_type": "code",
   "execution_count": 5,
   "metadata": {},
   "outputs": [
    {
     "data": {
      "text/plain": [
       "Bio.Entrez.Parser.StructureElement"
      ]
     },
     "execution_count": 5,
     "metadata": {},
     "output_type": "execute_result"
    }
   ],
   "source": [
    "type(records)"
   ]
  },
  {
   "cell_type": "code",
   "execution_count": 6,
   "metadata": {},
   "outputs": [
    {
     "data": {
      "text/plain": [
       "['__class__',\n",
       " '__cmp__',\n",
       " '__contains__',\n",
       " '__delattr__',\n",
       " '__delitem__',\n",
       " '__dict__',\n",
       " '__doc__',\n",
       " '__eq__',\n",
       " '__format__',\n",
       " '__ge__',\n",
       " '__getattribute__',\n",
       " '__getitem__',\n",
       " '__gt__',\n",
       " '__hash__',\n",
       " '__init__',\n",
       " '__iter__',\n",
       " '__le__',\n",
       " '__len__',\n",
       " '__lt__',\n",
       " '__module__',\n",
       " '__ne__',\n",
       " '__new__',\n",
       " '__reduce__',\n",
       " '__reduce_ex__',\n",
       " '__repr__',\n",
       " '__setattr__',\n",
       " '__setitem__',\n",
       " '__sizeof__',\n",
       " '__str__',\n",
       " '__subclasshook__',\n",
       " '__weakref__',\n",
       " 'clear',\n",
       " 'copy',\n",
       " 'fromkeys',\n",
       " 'get',\n",
       " 'has_key',\n",
       " 'items',\n",
       " 'iteritems',\n",
       " 'iterkeys',\n",
       " 'itervalues',\n",
       " 'keys',\n",
       " 'listkeys',\n",
       " 'pop',\n",
       " 'popitem',\n",
       " 'setdefault',\n",
       " 'tag',\n",
       " 'update',\n",
       " 'values',\n",
       " 'viewitems',\n",
       " 'viewkeys',\n",
       " 'viewvalues']"
      ]
     },
     "execution_count": 6,
     "metadata": {},
     "output_type": "execute_result"
    }
   ],
   "source": [
    "dir(records)"
   ]
  },
  {
   "cell_type": "code",
   "execution_count": 7,
   "metadata": {},
   "outputs": [
    {
     "data": {
      "text/plain": [
       "{u'MedlineCitation': DictElement({u'OtherID': [], u'DateRevised': {u'Month': '12', u'Day': '30', u'Year': '2016'}, u'OtherAbstract': [], u'CitationSubset': [], u'KeywordList': [], u'DateCreated': {u'Month': '12', u'Day': '29', u'Year': '2016'}, u'SpaceFlightMission': [], u'GeneralNote': [], u'Article': DictElement({u'ArticleDate': [DictElement({u'Month': '12', u'Day': '29', u'Year': '2016'}, attributes={u'DateType': u'Electronic'})], u'Pagination': {u'MedlinePgn': '1-12'}, u'AuthorList': ListElement([DictElement({u'LastName': 'Kimonis', u'Initials': 'ER', u'Identifier': [], u'AffiliationInfo': [{u'Affiliation': 'University of New South Wales.', u'Identifier': []}], u'ForeName': 'Eva R'}, attributes={u'ValidYN': u'Y'}), DictElement({u'LastName': 'Fanti', u'Initials': 'KA', u'Identifier': [], u'AffiliationInfo': [{u'Affiliation': 'University of Cyprus.', u'Identifier': []}], u'ForeName': 'Kostas A'}, attributes={u'ValidYN': u'Y'}), DictElement({u'LastName': 'Goulter', u'Initials': 'N', u'Identifier': [], u'AffiliationInfo': [{u'Affiliation': 'University of New South Wales.', u'Identifier': []}], u'ForeName': 'Natalie'}, attributes={u'ValidYN': u'Y'}), DictElement({u'LastName': 'Hall', u'Initials': 'J', u'Identifier': [], u'AffiliationInfo': [{u'Affiliation': 'University of South Florida.', u'Identifier': []}], u'ForeName': 'Jason'}, attributes={u'ValidYN': u'Y'})], attributes={u'CompleteYN': u'Y'}), u'Language': ['eng'], u'PublicationTypeList': [StringElement('Journal Article', attributes={u'UI': u''})], u'Journal': {u'ISSN': StringElement('1469-2198', attributes={u'IssnType': u'Electronic'}), u'ISOAbbreviation': 'Dev. Psychopathol.', u'JournalIssue': DictElement({u'PubDate': {u'Month': 'Dec', u'Day': '29', u'Year': '2016'}}, attributes={u'CitedMedium': u'Internet'}), u'Title': 'Development and psychopathology'}, u'ArticleTitle': 'Affective startle potentiation differentiates primary and secondary variants of juvenile psychopathy.', u'ELocationID': [StringElement('10.1017/S0954579416001206', attributes={u'ValidYN': u'Y', u'EIdType': u'doi'})], u'Abstract': {u'AbstractText': [StringElement('Individuals with psychopathic traits show an attenuated emotional response to aversive stimuli. However, recent evidence suggests heterogeneity in emotional reactivity among individuals with psychopathic or callous-unemotional (CU) traits in the identification of primary and secondary subtypes, or variants. We hypothesized that primary CU variants will respond with blunted affect to negatively valenced stimuli, whereas individuals with a history of childhood maltreatment, fitting with theoretical conceptualizations of secondary psychopathy, will display heightened emotional reactivity. To test this hypothesis, we examined fear-potentiated startle between CU variants while viewing aversive, pleasant, and neutral scenes. Two hundred thirty-eight incarcerated adolescent (M age = 16.8 years, SD = 1.11 years) boys completed a picture-startle paradigm and self-report questionnaires assessing CU traits, aggressive behavior, and maltreatment. Latent profile analysis of CU trait, aggression, and maltreatment scores identified four classes: primary psychopathy variants (high CU traits, high aggression, low maltreatment; n = 46), secondary psychopathy variants (high CU traits, high aggression, high maltreatment; n = 42), and two nonpsychopathic groups differentiated on maltreatment experience (n = 148). Primary CU variants displayed reduced startle potentiation to aversive images relative to control, maltreated, and also secondary variants that exhibited greater startle modulation. Findings add to a rapidly growing body of literature supporting the possibility of multiple developmental pathways to psychopathic traits (i.e., equifinality), and extend it by finding support for divergent potential biomarkers between primary and secondary CU variants.', attributes={u'NlmCategory': u'UNASSIGNED'})]}}, attributes={u'PubModel': u'Print-Electronic'}), u'PMID': StringElement('28031056', attributes={u'Version': u'1'}), u'MedlineJournalInfo': {u'MedlineTA': 'Dev Psychopathol', u'Country': 'United States', u'NlmUniqueID': '8910645', u'ISSNLinking': '0954-5794'}}, attributes={u'Status': u'Publisher', u'Owner': u'NLM'}), u'PubmedData': {u'ArticleIdList': [StringElement('28031056', attributes={u'IdType': u'pubmed'}), StringElement('S0954579416001206', attributes={u'IdType': u'pii'}), StringElement('10.1017/S0954579416001206', attributes={u'IdType': u'doi'})], u'PublicationStatus': 'aheadofprint', u'History': [DictElement({u'Minute': '0', u'Month': '12', u'Day': '30', u'Hour': '6', u'Year': '2016'}, attributes={u'PubStatus': u'entrez'}), DictElement({u'Minute': '0', u'Month': '12', u'Day': '30', u'Hour': '6', u'Year': '2016'}, attributes={u'PubStatus': u'pubmed'}), DictElement({u'Minute': '0', u'Month': '12', u'Day': '30', u'Hour': '6', u'Year': '2016'}, attributes={u'PubStatus': u'medline'})]}}"
      ]
     },
     "execution_count": 7,
     "metadata": {},
     "output_type": "execute_result"
    }
   ],
   "source": [
    "records.values()[0][0]"
   ]
  },
  {
   "cell_type": "code",
   "execution_count": 8,
   "metadata": {},
   "outputs": [
    {
     "name": "stdout",
     "output_type": "stream",
     "text": [
      "no date info for ind:  12\n",
      "no date info for ind:  20\n",
      "no date info for ind:  23\n",
      "no date info for ind:  24\n",
      "no date info for ind:  28\n",
      "the next try statement didnt work...\n",
      "no date info for ind:  43\n",
      "no date info for ind:  47\n",
      "no date info for ind:  51\n",
      "no date info for ind:  53\n",
      "no date info for ind:  58\n",
      "no date info for ind:  63\n",
      "the next try statement didnt work...\n",
      "no date info for ind:  75\n",
      "the next try statement didnt work...\n",
      "no date info for ind:  77\n",
      "no date info for ind:  78\n",
      "no date info for ind:  82\n",
      "the next try statement didnt work...\n",
      "no date info for ind:  84\n",
      "no date info for ind:  89\n",
      "no date info for ind:  92\n"
     ]
    }
   ],
   "source": [
    "yearcolondict = defaultdict(list) #1\n",
    "for ind,record in enumerate(records.values()[0]): #2\n",
    "    try: #3\n",
    "        yearhere = float(record[\"MedlineCitation\"][\"Article\"][u'ArticleDate'][0][u\"Year\"]) #4\n",
    "        if len(record[\"MedlineCitation\"][\"Article\"][\"ArticleTitle\"].split(COI)) > 1: #5\n",
    "            yearcolondict[yearhere].append(1) #6\n",
    "        else: #7\n",
    "            yearcolondict[yearhere].append(0) #8\n",
    "    except: #9\n",
    "        print 'no date info for ind: ',ind #10\n",
    "        try: #11\n",
    "            yearhere = float(record[\"MedlineCitation\"][\"Article\"][u'Journal'][u'JournalIssue'][u'PubDate']['Year']) #12\n",
    "            if len(record[\"MedlineCitation\"][\"Article\"][\"ArticleTitle\"].split(COI)) > 1: #13\n",
    "                yearcolondict[yearhere].append(1) #14\n",
    "            else: #15\n",
    "                yearcolondict[yearhere].append(0) #16\n",
    "        except: #17\n",
    "            print 'the next try statement didnt work...' #18"
   ]
  },
  {
   "cell_type": "code",
   "execution_count": 9,
   "metadata": {},
   "outputs": [
    {
     "name": "stderr",
     "output_type": "stream",
     "text": [
      "/Users/erikleenylen/anaconda/lib/python2.7/site-packages/scipy/stats/_stats_mstats_common.py:97: RuntimeWarning: invalid value encountered in double_scalars\n",
      "  sterrest = np.sqrt((1 - r**2) * ssym / ssxm / df)\n"
     ]
    }
   ],
   "source": [
    "fig = plt.figure() #1\n",
    "ax = fig.add_subplot(111) #2\n",
    "x=[];y=[] #3\n",
    "for year in yearcolondict.keys(): #4\n",
    "    totescolons = float(sum(yearcolondict[year])) #5\n",
    "    pubsthisyear = float(len(yearcolondict[year])) #6\n",
    "    ax.scatter(year,totescolons/pubsthisyear,c='k',s=80,edgecolor='w') #7\n",
    "    x.append(year) #8\n",
    "    y.append(totescolons/pubsthisyear) #9\n",
    "slope, intercept, r_value, p_value, std_err = stats.linregress(x,y) #10\n",
    "xvals = np.arange(min(x),max(x),1) #11\n",
    "yvals = slope*xvals + intercept #12\n",
    "ax.plot(xvals,yvals,c='k') #13\n",
    "ax.set_title('Percent '+COI+'s per year for search term \"'+searchterm\\\n",
    "             +'\", slope ='+str(slope)[:6]+'/yr',style='italic') #14\n",
    "ax.set_xlabel('Year',style='italic') #15\n",
    "ax.set_ylabel('Proportion of titles containing search term',style='italic') #16\n",
    "ax.set_ylim([0,1]) #17\n",
    "plt.savefig('Figure 10.1 Character percents per year for term '+searchterm\\\n",
    "            +' char'+COI+'.png') #18"
   ]
  },
  {
   "cell_type": "code",
   "execution_count": 10,
   "metadata": {},
   "outputs": [],
   "source": [
    "year_project = 2030 #1\n",
    "fig = plt.figure() #2\n",
    "ax = fig.add_subplot(111) #3\n",
    "for yearind,year in enumerate(x): #4\n",
    "    ax.scatter(year,y[yearind],c='k',s=80,edgecolor='w') #5\n",
    "xvals = np.arange(min(x),year_project,1) #6\n",
    "yvals = slope*xvals + intercept #7\n",
    "ax.plot(xvals,yvals,c='k') #8\n",
    "ax.scatter(year_project, slope*year_project +\n",
    "intercept,c='b',s=80,edgecolor='w') #9\n",
    "ax.set_title('An obscene projection of use of colons in psychopathy research to year '+str(year_project),style='italic') #10\n",
    "ax.set_xlabel('Year',style='italic') #11\n",
    "ax.set_ylabel('Proportion of titles containing search term',style='italic') #12\n",
    "ax.axhline(1,ls='--',c='k') #13\n",
    "plt.savefig('Figure 10.2 Projected character percents per year for term '+searchterm+' char '+COI+' to year '+str(year_project)+'.png') #14"
   ]
  },
  {
   "cell_type": "code",
   "execution_count": null,
   "metadata": {
    "collapsed": true
   },
   "outputs": [],
   "source": []
  }
 ],
 "metadata": {
  "kernelspec": {
   "display_name": "Python 3",
   "language": "python",
   "name": "python3"
  },
  "language_info": {
   "codemirror_mode": {
    "name": "ipython",
    "version": 3
   },
   "file_extension": ".py",
   "mimetype": "text/x-python",
   "name": "python",
   "nbconvert_exporter": "python",
   "pygments_lexer": "ipython3",
   "version": "3.7.3"
  }
 },
 "nbformat": 4,
 "nbformat_minor": 1
}
